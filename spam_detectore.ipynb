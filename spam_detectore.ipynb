{
 "cells": [
  {
   "cell_type": "markdown",
   "metadata": {
    "id": "BKCrcukdE8Bb"
   },
   "source": [
    "# Assignment: Classification\n",
    "\n",
    "Classification refers to categorizing the given data into classes. For example,\n",
    "- Given an image of hand-written character, identifying the character (multi-class classification)\n",
    "- Given an image, annotating it with all the objects present in the image (multi-label classification)\n",
    "- Classifying an email as spam or non-spam (binary classification)\n",
    "- Classifying a tumor as benign or malignant and so on\n",
    "\n",
    "In this assignment, we will be building a classifier to classify emails as spam or non-spam. We will be using the Kaggle dataset [Spam or Not Spam Dataset](https://www.kaggle.com/datasets/ozlerhakan/spam-or-not-spam-dataset?resource=download) for this task. \n",
    "\n",
    "**Note**: You cannot load any libraries other than the mentioned ones.\n",
    "\n",
    "\n"
   ]
  },
  {
   "cell_type": "markdown",
   "metadata": {
    "id": "Irp6f7_2crfu"
   },
   "source": [
    "### Data pre-processing\n",
    "The first step in every machine learning algorithm is to process the raw data in some meaningful representations. We will be using the [Bag-of-Words](https://towardsdatascience.com/a-simple-explanation-of-the-bag-of-words-model-b88fc4f4971) representation to process the text. It comprises of following steps:\n",
    "\n",
    "- Process emails line-by-line to extract all the words.\n",
    "- Replace extracted words by their stem (root) word. This is known as stemming and lematization.\n",
    "- Remove stop words like and, or, is, am, and so on.\n",
    "- Assign a unique index to each word. This forms the vocabulary.\n",
    "- Represent each email as a binary vector of length equal to the size of the vocabulary such that the $i^{th}$ element of the vector is 1 iff the $i^th$ word is present in the email.\n",
    "\n",
    "Here we provide you with the function signature along with the expected functionality. You are expected to complete them accordingly. "
   ]
  },
  {
   "cell_type": "code",
   "execution_count": 1,
   "metadata": {
    "id": "wIlTOyyPn-mN",
    "scrolled": true
   },
   "outputs": [
    {
     "name": "stdout",
     "output_type": "stream",
     "text": [
      "Bag of words Representation created!\n",
      "Vocabulary Size:  25083\n",
      "bow_representation_of_emails:\n",
      "[[ 2.  1. 42. ...  0.  0.  0.]\n",
      " [ 0.  0.  4. ...  0.  0.  0.]\n",
      " [ 0.  0.  5. ...  0.  0.  0.]\n",
      " ...\n",
      " [ 0.  0.  0. ...  0.  0.  1.]\n",
      " [ 0.  0. 11. ...  0.  1.  1.]\n",
      " [ 0.  0. 19. ...  0.  0.  1.]]\n"
     ]
    }
   ],
   "source": [
    "import numpy as np\n",
    "from numpy import genfromtxt\n",
    "from nltk.stem import PorterStemmer\n",
    "from nltk.corpus import stopwords\n",
    "\n",
    "# import nltk \n",
    "# nltk.download('stopwords')\n",
    "\n",
    "# takes an email as an argument\n",
    "# read email line-by-line and extract all the words\n",
    "# return list of extracted words\n",
    "def read_email(email):\n",
    "    return (email.split())\n",
    "\n",
    "# takes a list of words as an argument\n",
    "# replace each word by their stem word\n",
    "# return list of stem words\n",
    "def stemming(words):\n",
    "    ps = PorterStemmer()\n",
    "    stem_words = []\n",
    "    for w in words:\n",
    "        stem_words.append(ps.stem(w))\n",
    "    return stem_words\n",
    "\n",
    "# takes a list of stem-words as an argument\n",
    "# remove stop words\n",
    "# return list of stem words after removing stop words\n",
    "def remove_stop_words(stem_words):\n",
    "    stop_words = set(stopwords.words('english'))\n",
    "    stem_no_stop_words = []\n",
    "    for w in stem_words:\n",
    "        if w not in stop_words:\n",
    "            stem_no_stop_words.append(w)\n",
    "\n",
    "    return stem_no_stop_words\n",
    "\n",
    "# takes a list of stem-words as an argument\n",
    "# add new words to the vocabulary and assign a unique index to them\n",
    "# returns new vocabulary\n",
    "def build_vocabulary(stem_no_stop_words):\n",
    "    last_value = len(vocabulary)\n",
    "    for w in stem_no_stop_words:\n",
    "        if vocabulary.get(w, \"null\")==\"null\":\n",
    "            vocabulary[w]=last_value\n",
    "            last_value+=1\n",
    "\n",
    "# takes a list of stem-words and vocabulary as an argument\n",
    "# returns bow representation\n",
    "def get_bow():\n",
    "    return email_bow\n",
    "        \n",
    "def text_to_bow(lst,k):        \n",
    "    for w in lst:\n",
    "        bow_representation_of_emails[k,vocabulary[w]]+=1\n",
    "    \n",
    "# read the entire dataset\n",
    "# convert emails to bow and maintain their labels\n",
    "# call function text_to_bow()\n",
    "def read_data():\n",
    "    data = genfromtxt('spam_or_not_spam.csv', delimiter=',', skip_header=1, encoding=\"utf8\", dtype=str)\n",
    "    \n",
    "    num_of_emails = len(data)  \n",
    "    global stem_no_stop_words\n",
    "    stem_no_stop_words = []\n",
    "    for i in range(0, num_of_emails):\n",
    "        words = read_email(data[(i,0)])\n",
    "        stem_words = stemming(words)\n",
    "        temp_words = remove_stop_words(stem_words)\n",
    "        stem_no_stop_words.append(temp_words)\n",
    "        build_vocabulary(temp_words)\n",
    "    vocabulary_size = len(vocabulary)\n",
    "    global bow_representation_of_emails\n",
    "    bow_representation_of_emails = np.zeros((num_of_emails, vocabulary_size+1))\n",
    "    for i in range(0,num_of_emails):      \n",
    "        text_to_bow(stem_no_stop_words[i],i)\n",
    "        if data[(i,1)] == '1' :\n",
    "            bow_representation_of_emails[i,vocabulary_size]=1\n",
    "    print(\"Bag of words Representation created!\")\n",
    "    print(\"Vocabulary Size: \", vocabulary_size)\n",
    "    print(\"bow_representation_of_emails:\")\n",
    "    print(bow_representation_of_emails)\n",
    "    \n",
    "# Globally defining our vocabulary\n",
    "vocabulary = {}\n",
    "read_data()"
   ]
  },
  {
   "cell_type": "markdown",
   "metadata": {
    "id": "d0cDiGt6nkPY"
   },
   "source": [
    "### Data Visualization\n",
    "Let's understand the data distribution\n",
    "- Visualize the frequency of word-occurence in all the emails(spam + non-spam)\n",
    "- Visualize the freuency of word-occurence for spam and non-spam emails separately"
   ]
  },
  {
   "cell_type": "code",
   "execution_count": 2,
   "metadata": {
    "id": "4vJLcTxDLZsh"
   },
   "outputs": [
    {
     "data": {
      "image/png": "[encoded data removed]",
      "text/plain": [
       "<Figure size 432x288 with 1 Axes>"
      ]
     },
     "metadata": {
      "needs_background": "light"
     },
     "output_type": "display_data"
    }
   ],
   "source": [
    "import matplotlib.pyplot as plt\n",
    "\n",
    "# visuallze data distribution\n",
    "def data_vis():\n",
    "    vocabulary_size = len(vocabulary)\n",
    "    frequency_spams  =  [0 for i in range(vocabulary_size)]\n",
    "    frequency_hams   =  [0 for i in range(vocabulary_size)]\n",
    "    frequency_total  =  [0 for i in range(vocabulary_size)]\n",
    "    num_of_emails = len(bow_representation_of_emails)\n",
    "    for i in range(0,num_of_emails):\n",
    "        if bow_representation_of_emails[i,vocabulary_size] == 1:\n",
    "            for j in range(0,vocabulary_size):\n",
    "                frequency_spams[j] += bow_representation_of_emails[i,j]\n",
    "                frequency_total[j] += bow_representation_of_emails[i,j]\n",
    "        else :\n",
    "            for j in range(0,vocabulary_size):\n",
    "                frequency_hams[j] += bow_representation_of_emails[i,j]\n",
    "                frequency_total[j] += bow_representation_of_emails[i,j]\n",
    "\n",
    "    list_of_words = []\n",
    "    for word in vocabulary:\n",
    "        list_of_words.append(word)\n",
    "#   Visualizing the frequency of word-occurence in all the emails\n",
    "    plt.plot(list_of_words,frequency_total)\n",
    "#   Visualizing the freuency of word-occurence for spam emails\n",
    "    plt.plot(list_of_words,frequency_spams)\n",
    "#   Visualizing the freuency of word-occurence for non-spam emails\n",
    "    plt.plot(list_of_words,frequency_hams)\n",
    "#   Showing the plot \n",
    "    plt.show()\n",
    "    return\n",
    "\n",
    "data_vis()"
   ]
  },
  {
   "cell_type": "markdown",
   "metadata": {
    "id": "LPq-3nTzGcdX"
   },
   "source": [
    "### Learn a Classifier\n",
    "Split the dataset randomly in the ratio 80:20 as the training and test dataset. Use only training dataset to learn the classifier. No test data should be used during training. Test data will only be used during evaluation.\n",
    "\n",
    "Now let us try to use ML algorithms to classify emails as spam or non-spam. You are supposed to implement [SVM](https://scikit-learn.org/stable/modules/svm.html) and [K-Nearest Neighbour](https://scikit-learn.org/stable/modules/generated/sklearn.neighbors.KNeighborsClassifier.html) algorithm available in scikit-learn using the same training dataset for both."
   ]
  },
  {
   "cell_type": "code",
   "execution_count": 3,
   "metadata": {
    "id": "IMpuaPCKHxwh"
   },
   "outputs": [],
   "source": [
    "from sklearn.neighbors import KNeighborsClassifier\n",
    "from sklearn import svm\n",
    "\n",
    "# split dataset\n",
    "def split():\n",
    "    np.random.shuffle(bow_representation_of_emails)\n",
    "    total_size = len(bow_representation_of_emails)\n",
    "    class_label = bow_representation_of_emails[:, -1]\n",
    "    dataset = bow_representation_of_emails[:, :-1] \n",
    "    X_train_data = dataset[0 : int(total_size*0.8)]\n",
    "    X_test_data = dataset[int(total_size*0.8) :]\n",
    "    Y_train_data = class_label[0 : int(total_size*0.8)]\n",
    "    Y_test_data = class_label[int(total_size*0.8) :]\n",
    "    return X_train_data, X_test_data, Y_train_data, Y_test_data\n",
    "\n",
    "# learn a SVM model\n",
    "# use the model to make prediction\n",
    "# return the model predictions on train and test dataset\n",
    "def svm_classifier(X_train_data, X_test_data, Y_train_data, Y_test_data):\n",
    "    clf = svm.SVC(kernel='linear') # A Linear Kernel\n",
    "    clf.fit(X_train_data, Y_train_data)\n",
    "    svm_test_predictions = clf.predict(X_test_data)\n",
    "    svm_train_predictions = clf.predict(X_train_data)\n",
    "    return svm_train_predictions, svm_test_predictions \n",
    "\n",
    "# implement k-NN algorithm\n",
    "# use the model to make prediction\n",
    "# return the model predictions on train and test dataset\n",
    "def knn_classifier(X_train_data, X_test_data, Y_train_data, Y_test_data):\n",
    "    model = KNeighborsClassifier()\n",
    "    model.fit(X_train_data, Y_train_data)\n",
    "    knn_train_predictions = model.predict(X_train_data)\n",
    "    knn_test_predictions = model.predict(X_test_data)\n",
    "    return knn_train_predictions, knn_test_predictions \n",
    "\n",
    "X_train_data, X_test_data, Y_train_data, Y_test_data = split()\n",
    "svm_train_predictions, svm_test_predictions = svm_classifier(X_train_data, X_test_data, Y_train_data, Y_test_data)\n",
    "knn_train_predictions, knn_test_predictions = knn_classifier(X_train_data, X_test_data, Y_train_data, Y_test_data)"
   ]
  },
  {
   "cell_type": "markdown",
   "metadata": {
    "id": "SlCwYvluHqQz"
   },
   "source": [
    "### Model Evaluation\n",
    "Compare the SVM and k-NN model using metrics\n",
    "- Accuracy\n",
    "- [AUC score](https://scikit-learn.org/stable/modules/generated/sklearn.metrics.auc.html)\n"
   ]
  },
  {
   "cell_type": "code",
   "execution_count": 4,
   "metadata": {
    "id": "X3KmcTpqKbGI",
    "scrolled": true
   },
   "outputs": [
    {
     "name": "stdout",
     "output_type": "stream",
     "text": [
      "0.9833610648918469\n",
      "0.9995836802664446\n",
      "0.9034941763727121\n",
      "0.940466278101582\n",
      "0.9595263891038539\n",
      "0.9987212276214834\n",
      "0.7971869679616158\n",
      "0.85216030502314\n"
     ]
    }
   ],
   "source": [
    "from sklearn import metrics\n",
    "from sklearn.metrics import roc_auc_score\n",
    "\n",
    "# compute accuracy \n",
    "def compute_accuracy(true_labels, predicted_labels):\n",
    "    acc = metrics.accuracy_score(true_labels, predicted_labels)\n",
    "    return acc\n",
    "\n",
    "# compute AUC score \n",
    "def compute_auc(true_labels, predicted_labels):\n",
    "    auc = roc_auc_score(true_labels, predicted_labels)\n",
    "    return auc\n",
    "\n",
    "test_acc_svm  = compute_accuracy(Y_test_data,svm_test_predictions)\n",
    "train_acc_svm = compute_accuracy(Y_train_data,svm_train_predictions)\n",
    "test_acc_knn  = compute_accuracy(Y_test_data,knn_test_predictions)\n",
    "train_acc_knn = compute_accuracy(Y_train_data,knn_train_predictions)\n",
    "\n",
    "test_auc_svm  = compute_auc(Y_test_data,svm_test_predictions)\n",
    "train_auc_svm = compute_auc(Y_train_data,svm_train_predictions)\n",
    "test_auc_knn  = compute_auc(Y_test_data,knn_test_predictions)\n",
    "train_auc_knn = compute_auc(Y_train_data,knn_train_predictions)\n",
    "\n",
    "\n",
    "print(test_acc_svm)\n",
    "print(train_acc_svm)\n",
    "print(test_acc_knn)\n",
    "print(train_acc_knn)\n",
    "\n",
    "\n",
    "print(test_auc_svm)\n",
    "print(train_auc_svm)\n",
    "print(test_auc_knn)\n",
    "print(train_auc_knn)\n",
    "\n",
    "\n",
    "# write code to print train and test accuracy and AUC score of SVM and k-NN classifier"
   ]
  },
  {
   "cell_type": "code",
   "execution_count": null,
   "metadata": {},
   "outputs": [],
   "source": []
  }
 ],
 "metadata": {
  "colab": {
   "collapsed_sections": [],
   "name": "python-assignment.ipynb",
   "provenance": []
  },
  "kernelspec": {
   "display_name": "Python 3 (ipykernel)",
   "language": "python",
   "name": "python3"
  },
  "language_info": {
   "codemirror_mode": {
    "name": "ipython",
    "version": 3
   },
   "file_extension": ".py",
   "mimetype": "text/x-python",
   "name": "python",
   "nbconvert_exporter": "python",
   "pygments_lexer": "ipython3",
   "version": "3.9.7"
  }
 },
 "nbformat": 4,
 "nbformat_minor": 1
}
